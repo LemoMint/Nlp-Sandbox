{
 "cells": [
  {
   "metadata": {},
   "cell_type": "markdown",
   "source": [
    "# Разметка данных\n",
    "## Сентимент анализ\n",
    "  -  Не размечаются данные на иностранном языке\n",
    "  - Брань - размечается\n"
   ],
   "id": "4f1f77cf8ea0d25d"
  },
  {
   "cell_type": "code",
   "id": "initial_id",
   "metadata": {
    "collapsed": true,
    "ExecuteTime": {
     "end_time": "2025-09-11T09:19:47.190955Z",
     "start_time": "2025-09-11T09:19:46.884405Z"
    }
   },
   "source": [
    "import logging\n",
    "from pathlib import Path\n",
    "import pandas as pd"
   ],
   "outputs": [],
   "execution_count": 1
  },
  {
   "metadata": {
    "ExecuteTime": {
     "end_time": "2025-09-11T09:21:02.956432Z",
     "start_time": "2025-09-11T09:21:02.950701Z"
    }
   },
   "cell_type": "code",
   "source": [
    "logging.basicConfig(level=logging.INFO)\n",
    "\n",
    "main_path = Path(\"../data/raw/raw.csv\")\n",
    "cols = [\"Комментарии\", \"Эмоциональная окраска\"]\n",
    "sheet_names = [\"UX\", \"GP\", \"AS\"]\n",
    "\n",
    "frames = []"
   ],
   "id": "b824d355b76caf58",
   "outputs": [],
   "execution_count": 2
  },
  {
   "metadata": {
    "ExecuteTime": {
     "end_time": "2025-09-11T09:22:49.012362Z",
     "start_time": "2025-09-11T09:22:46.666604Z"
    }
   },
   "cell_type": "code",
   "source": [
    "logging.info(\"Start reading files\")\n",
    "\n",
    "for sheet in sheet_names:\n",
    "    logging.info(f\"Reading sheet: {sheet}\")\n",
    "    df = pd.read_excel(main_path, sheet_name=sheet, usecols=cols)\n",
    "    frames.append(df)\n",
    "\n",
    "result = pd.concat(frames, ignore_index=True)\n",
    "\n",
    "logging.info(f\"Final dataset shape: {result.shape}\")\n",
    "\n",
    "output_path = Path(\"../data/interim/comments.csv\")\n",
    "result.to_csv(output_path, index=False, encoding=\"utf-8-sig\")\n",
    "\n",
    "logging.info(f\"File saved to {output_path}\")"
   ],
   "id": "d60d882fda0a36d1",
   "outputs": [
    {
     "name": "stderr",
     "output_type": "stream",
     "text": [
      "INFO:root:Start reading files\n",
      "INFO:root:Reading sheet: UX\n",
      "INFO:root:Reading sheet: GP\n",
      "INFO:root:Reading sheet: AS\n",
      "INFO:root:Final dataset shape: (29057, 2)\n",
      "INFO:root:File saved to ../data/interim/comments.csv\n"
     ]
    }
   ],
   "execution_count": 4
  },
  {
   "metadata": {},
   "cell_type": "code",
   "outputs": [],
   "execution_count": null,
   "source": "",
   "id": "41e65a76489a8de6"
  }
 ],
 "metadata": {
  "kernelspec": {
   "display_name": "Python 3",
   "language": "python",
   "name": "python3"
  },
  "language_info": {
   "codemirror_mode": {
    "name": "ipython",
    "version": 2
   },
   "file_extension": ".py",
   "mimetype": "text/x-python",
   "name": "python",
   "nbconvert_exporter": "python",
   "pygments_lexer": "ipython2",
   "version": "2.7.6"
  }
 },
 "nbformat": 4,
 "nbformat_minor": 5
}
