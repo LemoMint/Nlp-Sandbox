{
 "cells": [
  {
   "cell_type": "markdown",
   "id": "4f1f77cf8ea0d25d",
   "metadata": {},
   "source": [
    "# Разметка данных\n",
    "## Сентимент анализ\n",
    "  -  Не размечаются данные на иностранном языке\n",
    "  - Брань - размечается\n"
   ]
  },
  {
   "cell_type": "code",
   "execution_count": 53,
   "id": "initial_id",
   "metadata": {
    "ExecuteTime": {
     "end_time": "2025-09-14T11:14:48.523872Z",
     "start_time": "2025-09-14T11:14:48.518311Z"
    },
    "collapsed": true
   },
   "outputs": [],
   "source": [
    "import pickle\n",
    "import logging\n",
    "from pathlib import Path\n",
    "import pandas as pd\n",
    "import matplotlib.pyplot as plt\n",
    "from sklearn.model_selection import train_test_split\n",
    "from sklearn.feature_extraction.text import TfidfVectorizer\n",
    "from sklearn.linear_model import LogisticRegression\n",
    "from sklearn.metrics import (accuracy_score, f1_score, precision_score, recall_score)"
   ]
  },
  {
   "cell_type": "code",
   "execution_count": 54,
   "id": "b824d355b76caf58",
   "metadata": {
    "ExecuteTime": {
     "end_time": "2025-09-14T11:14:51.112661Z",
     "start_time": "2025-09-14T11:14:51.103403Z"
    }
   },
   "outputs": [],
   "source": [
    "logging.basicConfig(level=logging.INFO)\n",
    "\n",
    "raw_path = Path(\"../data/raw/raw.csv\")\n",
    "interim_path = Path(\"../data/interim/comments.csv\")\n",
    "\n",
    "cols = [\"Комментарии\", \"Эмоциональная окраска\"]\n",
    "sheet_names = [\"UX\", \"GP\", \"AS\"]\n",
    "\n",
    "class_labels = {\"мусор\":0, \"негативная\": 1, \"нейтральная\": 2, \"позитивная\": 3}\n",
    "class_colors = {0: \"blue\", 1: \"red\", 2: \"yellow\", 3: \"green\"}\n",
    "\n",
    "id2label = {v: k for k, v in class_labels.items()}"
   ]
  },
  {
   "cell_type": "code",
   "execution_count": 55,
   "id": "d60d882fda0a36d1",
   "metadata": {
    "ExecuteTime": {
     "end_time": "2025-09-14T11:14:56.548610Z",
     "start_time": "2025-09-14T11:14:53.162321Z"
    }
   },
   "outputs": [
    {
     "name": "stderr",
     "output_type": "stream",
     "text": [
      "INFO:root:Start reading files\n",
      "INFO:root:Reading sheet: UX\n",
      "INFO:root:Reading sheet: GP\n",
      "INFO:root:Reading sheet: AS\n",
      "INFO:root:Final dataset shape: (29057, 2)\n",
      "INFO:root:File saved to ../data/interim/comments.csv\n"
     ]
    }
   ],
   "source": [
    "logging.info(\"Start reading files\")\n",
    "\n",
    "frames = []\n",
    "for sheet in sheet_names:\n",
    "    logging.info(f\"Reading sheet: {sheet}\")\n",
    "    df = pd.read_excel(raw_path, sheet_name=sheet, usecols=cols)\n",
    "    frames.append(df)\n",
    "\n",
    "result = pd.concat(frames, ignore_index=True)\n",
    "\n",
    "logging.info(f\"Final dataset shape: {result.shape}\")\n",
    "\n",
    "output_path = Path(\"../data/interim/comments.csv\")\n",
    "result.to_csv(output_path, index=False, encoding=\"utf-8-sig\")\n",
    "\n",
    "logging.info(f\"File saved to {output_path}\")"
   ]
  },
  {
   "cell_type": "code",
   "execution_count": 56,
   "id": "41e65a76489a8de6",
   "metadata": {
    "ExecuteTime": {
     "end_time": "2025-09-14T11:14:57.810454Z",
     "start_time": "2025-09-14T11:14:57.720212Z"
    }
   },
   "outputs": [
    {
     "name": "stderr",
     "output_type": "stream",
     "text": [
      "INFO:root:Reading file: ../data/interim/comments.csv\n",
      "INFO:root:Preproccessing emotional marks\n"
     ]
    },
    {
     "data": {
      "text/html": [
       "<div>\n",
       "<style scoped>\n",
       "    .dataframe tbody tr th:only-of-type {\n",
       "        vertical-align: middle;\n",
       "    }\n",
       "\n",
       "    .dataframe tbody tr th {\n",
       "        vertical-align: top;\n",
       "    }\n",
       "\n",
       "    .dataframe thead th {\n",
       "        text-align: right;\n",
       "    }\n",
       "</style>\n",
       "<table border=\"1\" class=\"dataframe\">\n",
       "  <thead>\n",
       "    <tr style=\"text-align: right;\">\n",
       "      <th></th>\n",
       "      <th>text</th>\n",
       "      <th>label</th>\n",
       "    </tr>\n",
       "  </thead>\n",
       "  <tbody>\n",
       "    <tr>\n",
       "      <th>0</th>\n",
       "      <td>Уже регестрировалась</td>\n",
       "      <td>2</td>\n",
       "    </tr>\n",
       "    <tr>\n",
       "      <th>1</th>\n",
       "      <td>Вам зачем местоположение?</td>\n",
       "      <td>2</td>\n",
       "    </tr>\n",
       "    <tr>\n",
       "      <th>2</th>\n",
       "      <td>Видео  нет</td>\n",
       "      <td>1</td>\n",
       "    </tr>\n",
       "    <tr>\n",
       "      <th>3</th>\n",
       "      <td>конченые.</td>\n",
       "      <td>1</td>\n",
       "    </tr>\n",
       "    <tr>\n",
       "      <th>4</th>\n",
       "      <td>зачем мне это?</td>\n",
       "      <td>2</td>\n",
       "    </tr>\n",
       "  </tbody>\n",
       "</table>\n",
       "</div>"
      ],
      "text/plain": [
       "                        text  label\n",
       "0       Уже регестрировалась      2\n",
       "1  Вам зачем местоположение?      2\n",
       "2                 Видео  нет      1\n",
       "3                 конченые.       1\n",
       "4             зачем мне это?      2"
      ]
     },
     "execution_count": 56,
     "metadata": {},
     "output_type": "execute_result"
    }
   ],
   "source": [
    "logging.info(f\"Reading file: {interim_path}\")\n",
    "df = pd.read_csv(interim_path)\n",
    "\n",
    "logging.info(\"Preproccessing emotional marks\")\n",
    "df.columns = [\"text\", \"label\"]\n",
    "df = df.dropna()\n",
    "df[\"label\"] = df[\"label\"].str.lower().map(class_labels)\n",
    "df.head()\n"
   ]
  },
  {
   "cell_type": "code",
   "execution_count": 57,
   "id": "5906c3f622d19840",
   "metadata": {
    "ExecuteTime": {
     "end_time": "2025-09-14T11:14:59.731498Z",
     "start_time": "2025-09-14T11:14:59.575516Z"
    }
   },
   "outputs": [
    {
     "data": {
      "image/png": "[encoded data removed]",
      "text/plain": [
       "<Figure size 500x500 with 1 Axes>"
      ]
     },
     "metadata": {},
     "output_type": "display_data"
    }
   ],
   "source": [
    "class_values = df[\"label\"].value_counts()\n",
    "\n",
    "plt.figure(figsize=(5, 5))\n",
    "\n",
    "for c, count in class_values.items():\n",
    "    plt.bar(c, count, color=class_colors[c], label=id2label[c])\n",
    "\n",
    "plt.title(\"Кол-во комментариев разных классов\")\n",
    "plt.xlabel(\"Окрас\")\n",
    "plt.ylabel(\"Кол-во\")\n",
    "plt.legend()\n",
    "plt.xticks(class_values.index)\n",
    "plt.savefig(\"analyze.svg\")"
   ]
  },
  {
   "cell_type": "code",
   "execution_count": 58,
   "id": "584937cc32a0dd4b",
   "metadata": {
    "ExecuteTime": {
     "end_time": "2025-09-14T11:15:03.737871Z",
     "start_time": "2025-09-14T11:15:03.648048Z"
    }
   },
   "outputs": [],
   "source": [
    "X = df[\"text\"]\n",
    "y = df[\"label\"]\n",
    "\n",
    "X_train, X_test, y_train, y_test = train_test_split(\n",
    "    X, y, train_size=0.9, stratify=y, shuffle=True\n",
    ")\n",
    "\n",
    "pd.concat([X_train, y_train], axis=1).to_csv(\"../data/output/train.csv\", index=False)\n",
    "pd.concat([X_test, y_test], axis=1).to_csv(\"../data/output/test.csv\", index=False)"
   ]
  },
  {
   "cell_type": "markdown",
   "id": "2d739505daaf3eea",
   "metadata": {},
   "source": [
    "# Sklearn model's methods\n",
    "## Fit\n",
    "Обучение\n",
    "Составляет словарь\n",
    "Только на тренировочных данных. Изучает параметры.\tНичего не возвращает (изменяет сам объект).\n",
    "\n",
    "## Transform\n",
    "Применение обученной модели\n",
    "На тренировочных (после fit) и тестовых/новых данных. Применяет преобразование.\tПреобразованную матрицу.\n",
    "\n",
    "## Fit_transform\n",
    "Комбинация\n",
    "Только на тренировочных данных. Для удобства и эффективности.\tПреобразованную матрицу."
   ]
  },
  {
   "cell_type": "code",
   "execution_count": 70,
   "id": "226ab8b78bca2d05",
   "metadata": {
    "ExecuteTime": {
     "end_time": "2025-09-14T11:30:41.585813Z",
     "start_time": "2025-09-14T11:30:23.955422Z"
    }
   },
   "outputs": [
    {
     "name": "stdout",
     "output_type": "stream",
     "text": [
      "Accuracy score: 0.8272539573296628\n",
      "Precision score: 0.8267726801235966\n",
      "Recall score: 0.8272539573296628\n",
      "F1 score: 0.8207081711736681\n"
     ]
    }
   ],
   "source": [
    "train = pd.read_csv(\"../data/output/train.csv\")\n",
    "test = pd.read_csv(\"../data/output/test.csv\")\n",
    "\n",
    "model = TfidfVectorizer()\n",
    "X_train_vector = model.fit_transform(train[\"text\"])\n",
    "X_test_vector = model.transform(test[\"text\"])\n",
    "\n",
    "# Не сходился на 100\n",
    "lr = LogisticRegression(max_iter=200)\n",
    "lr.fit(X_train_vector, train[\"label\"])\n",
    "y_pred = lr.predict(X_test_vector)\n",
    "\n",
    "print(\"Accuracy score:\", accuracy_score(test[\"label\"], y_pred))\n",
    "print(\"Precision score:\", precision_score(test[\"label\"], y_pred, average=\"weighted\"))\n",
    "print(\"Recall score:\", recall_score(test[\"label\"], y_pred, average=\"weighted\"))\n",
    "print(\"F1 score:\", f1_score(test[\"label\"], y_pred, average=\"weighted\"))\n",
    "\n",
    "with open(\"../models/tf_idf_start.pkl\", \"wb\") as file:\n",
    "    pickle.dump(model, file=file)\n",
    "\n",
    "with open(\"../models/lr_start.pkl\", \"wb\") as file:\n",
    "    pickle.dump(lr, file=file)"
   ]
  },
  {
   "cell_type": "markdown",
   "id": "42c0886c783d1303",
   "metadata": {},
   "source": [
    "После предсказания возможны 4 исхода:\n",
    "\n",
    "True Positive (**TP**): Модель верно предсказала токсичный комментарий\n",
    "True Negative (**TN**): Модель верно предсказала нетоксичный комментарий\n",
    "False Positive (**FP**): Модель ошиблась, предсказав токсичность там, где ее нет\n",
    "False Negative (**FN**): Модель пропустила токсичный комментарий, предсказав его как нетоксичный\n",
    "\n",
    "### accuracy_score\n",
    "Измеряет общую долю правильных ответов модели\n",
    "(TP + TN) / (TP + TN + FP + FN)\n",
    "Если 90% комментариев нетоксичны, и модель будет всегда предсказывать \"0\", ее accuracy будет 90%, но она бесполезна!\n",
    "\n",
    "### precision_score\n",
    "Измеряет сколько действительно токсичны, из всех предсказанных \"токсичных\"\n",
    "TP / (TP + FP)\n",
    "\n",
    "### recall_score\n",
    "Измеряет сколько модель обнаружила из всех реально токсичных\n",
    "TP / (TP + FN)\n",
    "\n",
    "### f1_score\n",
    "Измеряет Гармоническое среднее между Precision и Recall - Баланс между точностью предсказаний и полнотой охвата.\n",
    "2 * (Precision * Recall) / (Precision + Recall)"
   ]
  },
  {
   "cell_type": "code",
   "execution_count": null,
   "id": "b30e6eec5bcae350",
   "metadata": {},
   "outputs": [],
   "source": []
  }
 ],
 "metadata": {
  "kernelspec": {
   "display_name": "Python 3",
   "language": "python",
   "name": "python3"
  },
  "language_info": {
   "codemirror_mode": {
    "name": "ipython",
    "version": 2
   },
   "file_extension": ".py",
   "mimetype": "text/x-python",
   "name": "python",
   "nbconvert_exporter": "python",
   "pygments_lexer": "ipython2",
   "version": "2.7.6"
  }
 },
 "nbformat": 4,
 "nbformat_minor": 5
}
